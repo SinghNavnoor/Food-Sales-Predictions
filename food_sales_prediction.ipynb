{
  "nbformat": 4,
  "nbformat_minor": 0,
  "metadata": {
    "colab": {
      "provenance": [],
      "authorship_tag": "ABX9TyOJB/4xbKGJfk1Ii0OSTost",
      "include_colab_link": true
    },
    "kernelspec": {
      "name": "python3",
      "display_name": "Python 3"
    },
    "language_info": {
      "name": "python"
    }
  },
  "cells": [
    {
      "cell_type": "markdown",
      "metadata": {
        "id": "view-in-github",
        "colab_type": "text"
      },
      "source": [
        "<a href=\"https://colab.research.google.com/github/SinghNavnoor/Food-Sales-Predictions/blob/main/food_sales_prediction.ipynb\" target=\"_parent\"><img src=\"https://colab.research.google.com/assets/colab-badge.svg\" alt=\"Open In Colab\"/></a>"
      ]
    },
    {
      "cell_type": "markdown",
      "source": [
        "\n",
        "# Project 1: Part 1\n",
        "#####Navnoor Singh Kahlon\n",
        "---\n",
        "\n"
      ],
      "metadata": {
        "id": "FxwQCLCcAbbA"
      }
    },
    {
      "cell_type": "code",
      "execution_count": null,
      "metadata": {
        "id": "R_Tx6BxYANXV"
      },
      "outputs": [],
      "source": []
    },
    {
      "cell_type": "markdown",
      "source": [
        "##Loading Data"
      ],
      "metadata": {
        "id": "xs-SQU5sA6ml"
      }
    },
    {
      "cell_type": "code",
      "source": [],
      "metadata": {
        "id": "S7QTSGwQA8WS"
      },
      "execution_count": null,
      "outputs": []
    },
    {
      "cell_type": "markdown",
      "source": [
        "##Data Cleaning"
      ],
      "metadata": {
        "id": "2FH43ymhA-es"
      }
    },
    {
      "cell_type": "code",
      "source": [],
      "metadata": {
        "id": "vmCLDtZhA_6H"
      },
      "execution_count": null,
      "outputs": []
    },
    {
      "cell_type": "markdown",
      "source": [
        "##Exploratory Visuals"
      ],
      "metadata": {
        "id": "FZChxAo4BAZ8"
      }
    },
    {
      "cell_type": "code",
      "source": [],
      "metadata": {
        "id": "3WSejYBUBDRP"
      },
      "execution_count": null,
      "outputs": []
    },
    {
      "cell_type": "markdown",
      "source": [
        "## Explanatory Visuals"
      ],
      "metadata": {
        "id": "EVcLIVvvBDqu"
      }
    },
    {
      "cell_type": "code",
      "source": [],
      "metadata": {
        "id": "O1WWmnKNBHQM"
      },
      "execution_count": null,
      "outputs": []
    }
  ]
}